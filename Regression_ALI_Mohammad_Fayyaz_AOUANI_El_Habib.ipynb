{
 "cells": [
  {
   "cell_type": "markdown",
   "metadata": {},
   "source": [
    "# Projet Econométrie Partie 1 - MS BGD 2020 \n",
    "## ALI Mohammad Fayyaz\n",
    "## AOUANI El-Habib"
   ]
  },
  {
   "cell_type": "code",
   "execution_count": 1,
   "metadata": {},
   "outputs": [],
   "source": [
    "import pandas as pd\n",
    "import numpy as np\n",
    "import matplotlib.pyplot as plt\n",
    "from matplotlib.axes import Axes\n",
    "import statsmodels.api as sm\n",
    "import math as m\n",
    "from statsmodels.tsa.stattools import acf\n",
    "from statsmodels.tsa.stattools import pacf\n",
    "from statsmodels.graphics.tsaplots import plot_acf\n",
    "from statsmodels.graphics.tsaplots import plot_pacf\n",
    "from statsmodels.tsa.stattools import adfuller\n",
    "from statsmodels.stats.stattools import durbin_watson\n",
    "import statsmodels.tsa.api as smt\n",
    "from scipy.stats import t,f\n",
    "import warnings\n",
    "warnings.filterwarnings('ignore')"
   ]
  },
  {
   "cell_type": "markdown",
   "metadata": {},
   "source": [
    "## 1. Lire le fichier mroz.txt."
   ]
  },
  {
   "cell_type": "code",
   "execution_count": 2,
   "metadata": {},
   "outputs": [],
   "source": [
    "des = pd.read_csv('/Users/fayyazali/Desktop/MS Big Data - Telecom Paris/Econométrie - SES722 /swbook1_3e/textfiles/MROZ.des', sep= '\\t', nrows=4)\n",
    "names_cols = des['MROZ.DES'].str.split().explode().values\n",
    "df = pd.read_csv('/Users/fayyazali/Desktop/MS Big Data - Telecom Paris/Econométrie - SES722 /swbook1_3e/textfiles/MROZ.raw',\n",
    "                 names=names_cols,\n",
    "                 delim_whitespace=True,\n",
    "                 header=None).drop(['Obs:','753'], axis=1)"
   ]
  },
  {
   "cell_type": "code",
   "execution_count": 3,
   "metadata": {},
   "outputs": [],
   "source": [
    "#Convertion en float et traitement du '.' en début de float:\n",
    "def stw(x):\n",
    "    if str(x).startswith('.'):\n",
    "        x = x.replace('.','0.')\n",
    "    else:\n",
    "        pass\n",
    "    x = float(x)\n",
    "    return x"
   ]
  },
  {
   "cell_type": "code",
   "execution_count": 4,
   "metadata": {},
   "outputs": [],
   "source": [
    "df = df.applymap(stw)"
   ]
  },
  {
   "cell_type": "markdown",
   "metadata": {},
   "source": [
    "## Ne sélectionner que les observations pour lesquelles la variable wage est strictement positive"
   ]
  },
  {
   "cell_type": "code",
   "execution_count": 5,
   "metadata": {},
   "outputs": [],
   "source": [
    "#Application du masque des salaire strictement positifs\n",
    "msk = df['wage'] > 0\n",
    "df = df[msk]"
   ]
  },
  {
   "cell_type": "markdown",
   "metadata": {},
   "source": [
    "## 2. Faire les statistiques descriptives du salaire, de l’age et de l’éducation pour l’ensemble des femmes puis, pour les femmes dont le salaire du mari est supérieure au 65ème percentile de l’échantillon, puis pour les femmes dont le salaire du mari est inférieur au 65ème percentile de l’échantillon. Commenter"
   ]
  },
  {
   "cell_type": "code",
   "execution_count": 6,
   "metadata": {},
   "outputs": [
    {
     "name": "stdout",
     "output_type": "stream",
     "text": [
      "Description statistique du salaire des femmes count    428.000000\n",
      "mean       4.177682\n",
      "std        3.310282\n",
      "min        0.128200\n",
      "25%        2.262600\n",
      "50%        3.481900\n",
      "75%        4.970750\n",
      "max       25.000000\n",
      "Name: wage, dtype: float64\n",
      "----------------\n",
      "Description statistique de l'age des femmes count    428.000000\n",
      "mean      12.658879\n",
      "std        2.285376\n",
      "min        5.000000\n",
      "25%       12.000000\n",
      "50%       12.000000\n",
      "75%       14.000000\n",
      "max       17.000000\n",
      "Name: educ, dtype: float64\n",
      "----------------\n",
      "Description statistique de l'éducation des femmes count    428.000000\n",
      "mean      41.971963\n",
      "std        7.721084\n",
      "min       30.000000\n",
      "25%       35.000000\n",
      "50%       42.000000\n",
      "75%       47.250000\n",
      "max       60.000000\n",
      "Name: age, dtype: float64\n"
     ]
    }
   ],
   "source": [
    "# Statistiques descriptives du salaire, de l’age et de l’éducation pour l’ensemble des femmes\n",
    "\n",
    "print(f'Description statistique du salaire des femmes {df[\"wage\"].describe()}')\n",
    "print('----------------')\n",
    "print(f\"Description statistique de l'age des femmes {df['educ'].describe()}\")\n",
    "print('----------------')\n",
    "print(f\"Description statistique de l'éducation des femmes {df['age'].describe()}\")"
   ]
  },
  {
   "cell_type": "code",
   "execution_count": 7,
   "metadata": {},
   "outputs": [
    {
     "data": {
      "text/plain": [
       "7.8125"
      ]
     },
     "execution_count": 7,
     "metadata": {},
     "output_type": "execute_result"
    }
   ],
   "source": [
    "msk_sup_65 = df['huswage'] > df['huswage'].quantile(0.65)\n",
    "msk_inf_65 = df['huswage'] <= df['huswage'].quantile(0.65)\n",
    "df['huswage'].quantile(0.65)"
   ]
  },
  {
   "cell_type": "code",
   "execution_count": 8,
   "metadata": {},
   "outputs": [
    {
     "name": "stdout",
     "output_type": "stream",
     "text": [
      "Salaire des hommes > 65ième percentile \n",
      "\n",
      "Description statistique du salaire des femmes count    148.000000\n",
      "mean       5.139315\n",
      "std        4.351728\n",
      "min        0.213700\n",
      "25%        2.561925\n",
      "50%        4.008050\n",
      "75%        6.516300\n",
      "max       25.000000\n",
      "Name: wage, dtype: float64\n",
      "----------------\n",
      "Description statistique de l'age des femmes count    148.00000\n",
      "mean      42.52027\n",
      "std        7.35168\n",
      "min       30.00000\n",
      "25%       36.00000\n",
      "50%       43.00000\n",
      "75%       48.00000\n",
      "max       59.00000\n",
      "Name: age, dtype: float64\n",
      "----------------\n",
      "Description statistique de l'éducation des femmes count    148.000000\n",
      "mean      13.520270\n",
      "std        2.345845\n",
      "min        5.000000\n",
      "25%       12.000000\n",
      "50%       13.000000\n",
      "75%       16.000000\n",
      "max       17.000000\n",
      "Name: educ, dtype: float64\n"
     ]
    }
   ],
   "source": [
    "print('Salaire des hommes > 65ième percentile \\n')\n",
    "print(f'Description statistique du salaire des femmes {df[msk_sup_65][\"wage\"].describe()}')\n",
    "print('----------------')\n",
    "print(f\"Description statistique de l'age des femmes {df[msk_sup_65]['age'].describe()}\")\n",
    "print('----------------')\n",
    "print(f\"Description statistique de l'éducation des femmes {df[msk_sup_65]['educ'].describe()}\")"
   ]
  },
  {
   "cell_type": "code",
   "execution_count": 9,
   "metadata": {},
   "outputs": [
    {
     "name": "stdout",
     "output_type": "stream",
     "text": [
      "Salaire des hommes <= 65ième percentile \n",
      "\n",
      "Description statistique du salaire des femmes count    280.000000\n",
      "mean       3.669390\n",
      "std        2.458277\n",
      "min        0.128200\n",
      "25%        2.151600\n",
      "50%        3.203550\n",
      "75%        4.539500\n",
      "max       22.500000\n",
      "Name: wage, dtype: float64\n",
      "----------------\n",
      "Description statistique de l'age des femmes count    280.000000\n",
      "mean      41.682143\n",
      "std        7.906875\n",
      "min       30.000000\n",
      "25%       35.000000\n",
      "50%       41.000000\n",
      "75%       47.000000\n",
      "max       60.000000\n",
      "Name: age, dtype: float64\n",
      "----------------\n",
      "Description statistique de l'éducation des femmes count    280.000000\n",
      "mean      12.203571\n",
      "std        2.119542\n",
      "min        6.000000\n",
      "25%       12.000000\n",
      "50%       12.000000\n",
      "75%       12.000000\n",
      "max       17.000000\n",
      "Name: educ, dtype: float64\n"
     ]
    }
   ],
   "source": [
    "print('Salaire des hommes <= 65ième percentile \\n')\n",
    "print(f'Description statistique du salaire des femmes {df[msk_inf_65][\"wage\"].describe()}')\n",
    "print('----------------')\n",
    "print(f\"Description statistique de l'age des femmes {df[msk_inf_65]['age'].describe()}\")\n",
    "print('----------------')\n",
    "print(f\"Description statistique de l'éducation des femmes {df[msk_inf_65]['educ'].describe()}\")"
   ]
  },
  {
   "cell_type": "markdown",
   "metadata": {},
   "source": [
    "__On remarque que les moyennes des salaire/age/education des femmes diminue en fonction de la partie du 65 parcentile où on est.__"
   ]
  },
  {
   "cell_type": "markdown",
   "metadata": {},
   "source": [
    "## 3. Faire l'histogramme de la variable wage."
   ]
  },
  {
   "cell_type": "code",
   "execution_count": 10,
   "metadata": {},
   "outputs": [
    {
     "data": {
      "image/png": "[encoded data removed]",
      "text/plain": [
       "<Figure size 720x360 with 1 Axes>"
      ]
     },
     "metadata": {
      "needs_background": "light"
     },
     "output_type": "display_data"
    }
   ],
   "source": [
    "plt.figure(figsize=(10,5))\n",
    "plt.hist(df['wage'])\n",
    "plt.grid('true')\n",
    "plt.xlabel('wage')\n",
    "plt.ylabel('nombre')\n",
    "plt.title('Histogramme des salaires des femmes')\n",
    "plt.show()"
   ]
  },
  {
   "cell_type": "markdown",
   "metadata": {},
   "source": [
    "## Supprimer les observations qui sont à plus de 3 écart-types de la moyenne et refaire l’histogramme"
   ]
  },
  {
   "cell_type": "code",
   "execution_count": 11,
   "metadata": {},
   "outputs": [],
   "source": [
    "ecartt = df['wage'].describe()['std']\n",
    "mean = df['wage'].describe()['mean']\n",
    "\n",
    "msk_3std = df['wage'] < 3*ecartt + mean"
   ]
  },
  {
   "cell_type": "code",
   "execution_count": 12,
   "metadata": {
    "scrolled": true
   },
   "outputs": [
    {
     "data": {
      "image/png": "[encoded data removed]",
      "text/plain": [
       "<Figure size 720x360 with 1 Axes>"
      ]
     },
     "metadata": {
      "needs_background": "light"
     },
     "output_type": "display_data"
    }
   ],
   "source": [
    "plt.figure(figsize=(10,5))\n",
    "plt.hist(df[msk_3std]['wage'])\n",
    "plt.xlabel('wage')\n",
    "plt.ylabel('nombre')\n",
    "plt.title('Histogramme des salaires des femmes filtré mean+3*std')\n",
    "plt.grid('true')\n",
    "plt.show()"
   ]
  },
  {
   "cell_type": "markdown",
   "metadata": {},
   "source": [
    "## 4. Calculer les corrélations motheduc et fatheduc. Expliquer le problème de multi-colinéarité. Commenter."
   ]
  },
  {
   "cell_type": "code",
   "execution_count": 13,
   "metadata": {},
   "outputs": [
    {
     "data": {
      "text/plain": [
       "array([[1.        , 0.55406322],\n",
       "       [0.55406322, 1.        ]])"
      ]
     },
     "execution_count": 13,
     "metadata": {},
     "output_type": "execute_result"
    }
   ],
   "source": [
    "#Pas très corrélé, 0.55 de coefficient de corrélation entre les deux colonnes\n",
    "np.corrcoef(df['motheduc'],df['fatheduc'])"
   ]
  },
  {
   "cell_type": "code",
   "execution_count": 14,
   "metadata": {},
   "outputs": [
    {
     "data": {
      "image/png": "[encoded data removed]",
      "text/plain": [
       "<Figure size 720x360 with 1 Axes>"
      ]
     },
     "metadata": {
      "needs_background": "light"
     },
     "output_type": "display_data"
    }
   ],
   "source": [
    "plt.figure(figsize=(10,5))\n",
    "plt.scatter(df['motheduc'],df['fatheduc'])\n",
    "plt.grid()\n",
    "plt.xlabel('motheduc')\n",
    "plt.ylabel('fatheduc')\n",
    "plt.title('fatheduc = f(motheduc)')\n",
    "plt.show()"
   ]
  },
  {
   "cell_type": "markdown",
   "metadata": {},
   "source": [
    "__Explication multi-colinéarité:__ Nous avons un problème de multicolinéarité lorsque deux ou plusieurs variables (colonnes) de la matrice X sont (quasi) linéairement dépendantes. Ce qui donne det(X'X) proche de 0, ce qui rend difficile le calcul de l'inverse de X'X (valeurs très grandes), nécessaire pour le calcul des écarts types.  \n",
    "Une solution serait de rajouter des observations ou retirer des variables.  \n",
    "Avec une covariance de 0.55, nous pensons pouvoir garder les deux variables."
   ]
  },
  {
   "cell_type": "markdown",
   "metadata": {},
   "source": [
    "## 5. Faites un graphique en nuage de point entre wage et educ. S'agit-il d'un effet \"toute chose étant égale par ailleurs ?\""
   ]
  },
  {
   "cell_type": "code",
   "execution_count": 15,
   "metadata": {},
   "outputs": [
    {
     "data": {
      "image/png": "[encoded data removed]",
      "text/plain": [
       "<Figure size 720x360 with 1 Axes>"
      ]
     },
     "metadata": {
      "needs_background": "light"
     },
     "output_type": "display_data"
    }
   ],
   "source": [
    "plt.figure(figsize=(10,5))\n",
    "plt.scatter(df['educ'],df['wage'])\n",
    "plt.grid('true')\n",
    "plt.xlabel('educ')\n",
    "plt.ylabel('wage')\n",
    "plt.title('wage = f(educ)')\n",
    "plt.show()"
   ]
  },
  {
   "cell_type": "markdown",
   "metadata": {},
   "source": [
    "__Effet ceteris paribus:__ Il ne s'agit pas d'un effet \"ceteris paribus\", car on nous n'avons pas fixé les autres variables, nous ne savons pas si la tendance vue sur le graphe ne serait pas dûe à l'effet d'autres variables."
   ]
  },
  {
   "cell_type": "markdown",
   "metadata": {},
   "source": [
    "## 6. Quelle est l'hypothèse fondamentale qui garantit des estimateurs non biaisés ? Expliquer le biais de variable omise."
   ]
  },
  {
   "cell_type": "markdown",
   "metadata": {},
   "source": [
    "__Hypothèse fondamentale:__ Espérance du biais (de l'erreur) sachant X = 0 <br>  \n",
    "__Gauss-Markov:__ MCO est estimateur BLUE (Best Linear Unbiased Estimateur) ssi : <br> \n",
    "=> Les erreurs de l'OLS ne sont pas corrélées <br>\n",
    "=> ont même variances <br>\n",
    "=> et une espérence nulle"
   ]
  },
  {
   "cell_type": "markdown",
   "metadata": {},
   "source": [
    "__Biais variable ommise:__ Lorsque l'on omet une variable, l'effet de cette dernière est intégrée dans les résidus. Nous avons alors de très fortes chances de ne plus respecter l'hypothèse fondamentale d'espérance des erreurs nulles sachant X, notamment s'il y a des colinéarités entre les variables omises et nos variables de design."
   ]
  },
  {
   "cell_type": "markdown",
   "metadata": {},
   "source": [
    "## 7. Faire la régression du log de wage en utilisant comme variables explicatives une constante, city, educ, exper, nwifeinc, kidslt6, kidsgt6. Commentez l'histogramme des résidus."
   ]
  },
  {
   "cell_type": "code",
   "execution_count": 16,
   "metadata": {},
   "outputs": [],
   "source": [
    "# OLS\n",
    "\n",
    "X = df[['city','educ','exper','nwifeinc','kidslt6','kidsge6']]\n",
    "y = df['lwage']\n",
    "const = pd.DataFrame(np.ones(X.shape[0]))\n",
    "X = pd.concat([const,X], axis=1)\n",
    "\n",
    "n,k = X.shape"
   ]
  },
  {
   "cell_type": "code",
   "execution_count": 17,
   "metadata": {},
   "outputs": [
    {
     "name": "stdout",
     "output_type": "stream",
     "text": [
      "                            OLS Regression Results                            \n",
      "==============================================================================\n",
      "Dep. Variable:                  lwage   R-squared:                       0.156\n",
      "Model:                            OLS   Adj. R-squared:                  0.144\n",
      "Method:                 Least Squares   F-statistic:                     12.92\n",
      "Date:                Sun, 12 Apr 2020   Prob (F-statistic):           2.00e-13\n",
      "Time:                        21:36:58   Log-Likelihood:                -431.92\n",
      "No. Observations:                 428   AIC:                             877.8\n",
      "Df Residuals:                     421   BIC:                             906.3\n",
      "Df Model:                           6                                         \n",
      "Covariance Type:            nonrobust                                         \n",
      "==============================================================================\n",
      "                 coef    std err          t      P>|t|      [0.025      0.975]\n",
      "------------------------------------------------------------------------------\n",
      "0             -0.3990      0.207     -1.927      0.055      -0.806       0.008\n",
      "city           0.0353      0.070      0.503      0.616      -0.103       0.173\n",
      "educ           0.1022      0.015      6.771      0.000       0.073       0.132\n",
      "exper          0.0155      0.004      3.452      0.001       0.007       0.024\n",
      "nwifeinc       0.0049      0.003      1.466      0.143      -0.002       0.011\n",
      "kidslt6       -0.0453      0.085     -0.531      0.596      -0.213       0.122\n",
      "kidsge6       -0.0117      0.027     -0.434      0.664      -0.065       0.041\n",
      "==============================================================================\n",
      "Omnibus:                       79.542   Durbin-Watson:                   1.979\n",
      "Prob(Omnibus):                  0.000   Jarque-Bera (JB):              287.193\n",
      "Skew:                          -0.795   Prob(JB):                     4.33e-63\n",
      "Kurtosis:                       6.685   Cond. No.                         178.\n",
      "==============================================================================\n",
      "\n",
      "Warnings:\n",
      "[1] Standard Errors assume that the covariance matrix of the errors is correctly specified.\n"
     ]
    }
   ],
   "source": [
    "model=sm.OLS(y,X)\n",
    "results = model.fit()\n",
    "print(results.summary())"
   ]
  },
  {
   "cell_type": "code",
   "execution_count": 18,
   "metadata": {},
   "outputs": [
    {
     "data": {
      "image/png": "[encoded data removed]",
      "text/plain": [
       "<Figure size 720x360 with 1 Axes>"
      ]
     },
     "metadata": {
      "needs_background": "light"
     },
     "output_type": "display_data"
    }
   ],
   "source": [
    "plt.figure(figsize=(10,5))\n",
    "plt.hist(results.resid, bins=30)\n",
    "plt.grid('true')\n",
    "plt.xlabel('valeurs des résidus')\n",
    "plt.xlabel('nombre')\n",
    "plt.title(\"Histogramme des résidus de l'OLS\")\n",
    "plt.show()"
   ]
  },
  {
   "cell_type": "markdown",
   "metadata": {},
   "source": [
    "__Commentaires:__ les résidus sont centrées sur zéro.  \n",
    "Elles n'ont pas de tendances normale. Certaines propriétés ne sont possibles que sous l’hypothèse de normalité des résidus."
   ]
  },
  {
   "cell_type": "markdown",
   "metadata": {},
   "source": [
    "## 8. Tester l'hypothèse de non significativité de nwifeinc avec un seuil de significativité de 1%, 5% et 10% (test alternatif des deux côtés). Commentez les p-values."
   ]
  },
  {
   "cell_type": "markdown",
   "metadata": {},
   "source": [
    "H0: $\\beta_{nwifeinc}$ = 0"
   ]
  },
  {
   "cell_type": "code",
   "execution_count": 19,
   "metadata": {},
   "outputs": [],
   "source": [
    "u = results.resid"
   ]
  },
  {
   "cell_type": "code",
   "execution_count": 20,
   "metadata": {},
   "outputs": [
    {
     "data": {
      "text/plain": [
       "0          -0.398975\n",
       "city        0.035268\n",
       "educ        0.102248\n",
       "exper       0.015488\n",
       "nwifeinc    0.004883\n",
       "kidslt6    -0.045303\n",
       "kidsge6    -0.011704\n",
       "dtype: float64"
      ]
     },
     "execution_count": 20,
     "metadata": {},
     "output_type": "execute_result"
    }
   ],
   "source": [
    "beta = results.params\n",
    "beta"
   ]
  },
  {
   "cell_type": "code",
   "execution_count": 21,
   "metadata": {},
   "outputs": [
    {
     "data": {
      "text/plain": [
       "0.14340798202513919"
      ]
     },
     "execution_count": 21,
     "metadata": {},
     "output_type": "execute_result"
    }
   ],
   "source": [
    "# Estimateur non biaisé de la variance des erreurs epsilon\n",
    "sig2=u.T.dot(u)/(n-k)\n",
    "# Matrice de variance covariance\n",
    "Var=sig2*np.linalg.inv(X.T.dot(X))\n",
    "# les écarts types sont les éléments de la diagonale, tandis que les autres\n",
    "# éléments représentent les covariances. lorsqu'on divise par les écarts types, on obtient la matrice des corrélations\n",
    "std=np.sqrt(np.diag(Var))\n",
    "TStat = (beta['nwifeinc'])/std[4]\n",
    "\n",
    "#à 10%, la variable nwifeinc est significative\n",
    "t.sf(TStat,n-k)*2"
   ]
  },
  {
   "cell_type": "code",
   "execution_count": 22,
   "metadata": {},
   "outputs": [
    {
     "name": "stdout",
     "output_type": "stream",
     "text": [
      "                            OLS Regression Results                            \n",
      "==============================================================================\n",
      "Dep. Variable:                  lwage   R-squared:                       0.156\n",
      "Model:                            OLS   Adj. R-squared:                  0.144\n",
      "Method:                 Least Squares   F-statistic:                     12.92\n",
      "Date:                Sun, 12 Apr 2020   Prob (F-statistic):           2.00e-13\n",
      "Time:                        21:36:58   Log-Likelihood:                -431.92\n",
      "No. Observations:                 428   AIC:                             877.8\n",
      "Df Residuals:                     421   BIC:                             906.3\n",
      "Df Model:                           6                                         \n",
      "Covariance Type:            nonrobust                                         \n",
      "==============================================================================\n",
      "                 coef    std err          t      P>|t|      [0.025      0.975]\n",
      "------------------------------------------------------------------------------\n",
      "0             -0.3990      0.207     -1.927      0.055      -0.806       0.008\n",
      "city           0.0353      0.070      0.503      0.616      -0.103       0.173\n",
      "educ           0.1022      0.015      6.771      0.000       0.073       0.132\n",
      "exper          0.0155      0.004      3.452      0.001       0.007       0.024\n",
      "nwifeinc       0.0049      0.003      1.466      0.143      -0.002       0.011\n",
      "kidslt6       -0.0453      0.085     -0.531      0.596      -0.213       0.122\n",
      "kidsge6       -0.0117      0.027     -0.434      0.664      -0.065       0.041\n",
      "==============================================================================\n",
      "Omnibus:                       79.542   Durbin-Watson:                   1.979\n",
      "Prob(Omnibus):                  0.000   Jarque-Bera (JB):              287.193\n",
      "Skew:                          -0.795   Prob(JB):                     4.33e-63\n",
      "Kurtosis:                       6.685   Cond. No.                         178.\n",
      "==============================================================================\n",
      "\n",
      "Warnings:\n",
      "[1] Standard Errors assume that the covariance matrix of the errors is correctly specified.\n"
     ]
    }
   ],
   "source": [
    "print(results.summary())"
   ]
  },
  {
   "cell_type": "markdown",
   "metadata": {},
   "source": [
    "On remarque qu'on retrouve la même p-value entre les deux modèles (OLS manuels et OLS statmodel)\n",
    "\n",
    "Nous pouvons voir dans results que la p-value vaut 0.143 concernant le test de significativité du coefficient de nwifeinc.  \n",
    "- Au seuil de 1%: 0.01 < 0.143: On ne rejette pas l'hypothèse H0 \n",
    "- Au seuil de 5%: 0.05 < 0.143: On ne rejette pas l'hypothèse H0  \n",
    "- Au seuil de 10%: 0.1 < 0.143: On ne rejette pas l'hypothèse H0  \n",
    "Pour les 3 seuils proposés, nous ne pouvons rejeter l'hypothèse de non significativité de $\\beta_{nwifeinc}$."
   ]
  },
  {
   "cell_type": "markdown",
   "metadata": {},
   "source": [
    "## 9. Tester l’hypothèse que le coefficient associé à nwifeinc est égal à 0.01 avec un seuil de significativité de 5% (test à alternatif des deux côtés)"
   ]
  },
  {
   "cell_type": "markdown",
   "metadata": {},
   "source": [
    "H0: $\\beta_{nwifeinc}$ = 0.01"
   ]
  },
  {
   "cell_type": "code",
   "execution_count": 23,
   "metadata": {},
   "outputs": [
    {
     "name": "stdout",
     "output_type": "stream",
     "text": [
      "                            OLS Regression Results                            \n",
      "==============================================================================\n",
      "Dep. Variable:                      y   R-squared:                       0.138\n",
      "Model:                            OLS   Adj. R-squared:                  0.126\n",
      "Method:                 Least Squares   F-statistic:                     11.27\n",
      "Date:                Sun, 12 Apr 2020   Prob (F-statistic):           1.11e-11\n",
      "Time:                        21:36:58   Log-Likelihood:                -431.92\n",
      "No. Observations:                 428   AIC:                             877.8\n",
      "Df Residuals:                     421   BIC:                             906.3\n",
      "Df Model:                           6                                         \n",
      "Covariance Type:            nonrobust                                         \n",
      "==============================================================================\n",
      "                 coef    std err          t      P>|t|      [0.025      0.975]\n",
      "------------------------------------------------------------------------------\n",
      "0             -0.3990      0.207     -1.927      0.055      -0.806       0.008\n",
      "city           0.0353      0.070      0.503      0.616      -0.103       0.173\n",
      "educ           0.1022      0.015      6.771      0.000       0.073       0.132\n",
      "exper          0.0155      0.004      3.452      0.001       0.007       0.024\n",
      "nwifeinc      -0.0051      0.003     -1.536      0.125      -0.012       0.001\n",
      "kidslt6       -0.0453      0.085     -0.531      0.596      -0.213       0.122\n",
      "kidsge6       -0.0117      0.027     -0.434      0.664      -0.065       0.041\n",
      "==============================================================================\n",
      "Omnibus:                       79.542   Durbin-Watson:                   1.979\n",
      "Prob(Omnibus):                  0.000   Jarque-Bera (JB):              287.193\n",
      "Skew:                          -0.795   Prob(JB):                     4.33e-63\n",
      "Kurtosis:                       6.685   Cond. No.                         178.\n",
      "==============================================================================\n",
      "\n",
      "Warnings:\n",
      "[1] Standard Errors assume that the covariance matrix of the errors is correctly specified.\n"
     ]
    }
   ],
   "source": [
    "#Méthode 1\n",
    "y_1 = y - 0.01*df['nwifeinc']\n",
    "model2 = sm.OLS(y_1,X)\n",
    "results2 = model2.fit()\n",
    "print(results2.summary())"
   ]
  },
  {
   "cell_type": "markdown",
   "metadata": {},
   "source": [
    "__Méthode 2:__<br> La statistique de test est: $\\frac{(\\hat{\\beta}_{nwifeinc}-0.01)}{se(\\hat{\\beta}_{nwifeinc})}$"
   ]
  },
  {
   "cell_type": "code",
   "execution_count": 24,
   "metadata": {},
   "outputs": [
    {
     "name": "stdout",
     "output_type": "stream",
     "text": [
      "t2_nwifeinc :  -1.5363889855562405\n",
      "p_val_2 :  0.12519418591699374\n"
     ]
    }
   ],
   "source": [
    "# Methode 2\n",
    "t_2 = (beta['nwifeinc']-0.01) / std[4]\n",
    "print(\"t2_nwifeinc : \", t_2)\n",
    "p_val_2 = 2 * (t.cdf(t_2,n-k)) # On multiplie par 2 pour test symétrique\n",
    "print(\"p_val_2 : \", p_val_2)"
   ]
  },
  {
   "cell_type": "markdown",
   "metadata": {},
   "source": [
    "On retrouve ainsi les mêmes résultats"
   ]
  },
  {
   "cell_type": "markdown",
   "metadata": {},
   "source": [
    "__Commentaire:__ le test statistique donne une p-value de 0.125 correspondante à l'hypothèse H0 (relative au coefficient nwifeinc). Nous ne rejettons donc pas l'hypothèse H0"
   ]
  },
  {
   "cell_type": "markdown",
   "metadata": {},
   "source": [
    "## 10. Tester l’hypothèse jointe que le coefficient de nwifeinc est égal à 0.01 et que celui de city est égal à 0.05."
   ]
  },
  {
   "cell_type": "markdown",
   "metadata": {},
   "source": [
    "H0: $\\beta_{nwifeinc}$ = 0.01 et $\\beta_{city}$ = 0.05"
   ]
  },
  {
   "cell_type": "code",
   "execution_count": 25,
   "metadata": {},
   "outputs": [],
   "source": [
    "#La somme des carrés des erreurs du modèle non contraint\n",
    "SSR0 = u.T.dot(u)"
   ]
  },
  {
   "cell_type": "code",
   "execution_count": 26,
   "metadata": {},
   "outputs": [],
   "source": [
    "# OLS du modèle contraint\n",
    "\n",
    "X_3 = X.drop(['nwifeinc','city'],axis=1)\n",
    "y_3 = y - 0.01*df['nwifeinc'] - 0.05*df['city']\n",
    "\n",
    "model3 = sm.OLS(y_3,X_3)\n",
    "results3 = model3.fit()\n",
    "#print(results3.summary())\n",
    "v = results3.resid\n",
    "\n",
    "SSR1 = v.T.dot(v)\n",
    "\n",
    "F = ((SSR1-SSR0)/2)/(SSR0/(n-k))"
   ]
  },
  {
   "cell_type": "code",
   "execution_count": 27,
   "metadata": {},
   "outputs": [
    {
     "name": "stdout",
     "output_type": "stream",
     "text": [
      "1.3370704454928417\n",
      "0.2637267136252716\n"
     ]
    }
   ],
   "source": [
    "print(F)\n",
    "print(f.sf(F,2,n-k))"
   ]
  },
  {
   "cell_type": "markdown",
   "metadata": {},
   "source": [
    "__Commentaires:__ On ne rejette pas à 5%, l'hypothèse jointe H0 des deux coefficients __$\\beta_{nwifeinc}$__ = 0.01 et __$\\beta_{city}$__ = 0.05"
   ]
  },
  {
   "cell_type": "markdown",
   "metadata": {},
   "source": [
    "## 11. Tester l’hypothèse jointe que $\\beta_{nwifeinc} + \\beta_{city} = 0.1$ et $\\beta_{educ} + \\beta_{exper} = 0.1$"
   ]
  },
  {
   "cell_type": "markdown",
   "metadata": {},
   "source": [
    "H0: $\\beta_{nwifeinc} + \\beta_{city} = 0.1 <=> \\beta_{nwifeinc} = 0.1 - \\beta_{city}$  \n",
    "et $\\beta_{educ} + \\beta_{exper} = 0.1 <=> \\beta_{educ} = 0.1 - \\beta_{exper}$"
   ]
  },
  {
   "cell_type": "code",
   "execution_count": 28,
   "metadata": {},
   "outputs": [
    {
     "name": "stdout",
     "output_type": "stream",
     "text": [
      "p-value 0.39824353474808405\n"
     ]
    }
   ],
   "source": [
    "# Modèle contraint\n",
    "\n",
    "y_4 = y - 0.1*df['nwifeinc'] - 0.1*df['educ']\n",
    "\n",
    "X_int1 = df['city'] - df['nwifeinc']\n",
    "X_int2 = df['exper'] - df['educ']\n",
    "\n",
    "X_4 = pd.concat([const,X_int1,X_int2,df['kidslt6'],df['kidsge6']], axis=1)\n",
    "\n",
    "model4 = sm.OLS(y_4,X_4)\n",
    "results4 = model4.fit()\n",
    "u4 = results4.resid\n",
    "\n",
    "SSR14 = u4.T.dot(u4)\n",
    "\n",
    "F1 = ((SSR14-SSR0)/2)/(SSR0/(n-k))\n",
    "\n",
    "print(f'p-value {f.sf(F1,2,n-k)}')"
   ]
  },
  {
   "cell_type": "markdown",
   "metadata": {},
   "source": [
    "__Commentaires:__ Nous ne rejettons pas l'hypothèse jointe à 5%"
   ]
  },
  {
   "cell_type": "markdown",
   "metadata": {},
   "source": [
    "## 12. Faites une représentation graphique de la manière dont le salaire augmente avec l’éducation et l’expérience professionnelle. Commentez"
   ]
  },
  {
   "cell_type": "code",
   "execution_count": 29,
   "metadata": {},
   "outputs": [
    {
     "data": {
      "image/png": "[encoded data removed]",
      "text/plain": [
       "<Figure size 432x288 with 1 Axes>"
      ]
     },
     "metadata": {
      "needs_background": "light"
     },
     "output_type": "display_data"
    }
   ],
   "source": [
    "from mpl_toolkits.mplot3d import Axes3D\n",
    "from matplotlib import cm\n",
    "import matplotlib.pyplot as plt\n",
    "import numpy as np\n",
    "\n",
    "x1=X['educ']\n",
    "x2=X['exper']\n",
    "\n",
    "fig = plt.figure()\n",
    "ax = plt.axes(projection='3d')\n",
    "\n",
    "ax.scatter(x1, x2, y.values.reshape(-1,1), cmap='viridis', linewidth=0.25);\n",
    "#en bleu les nuages de points\n",
    "\n",
    "ax.set_xlabel('educ')\n",
    "ax.set_ylabel('exper')\n",
    "ax.set_zlabel('lwage')\n",
    "\n",
    "ax.view_init(30, 250)"
   ]
  },
  {
   "cell_type": "markdown",
   "metadata": {},
   "source": [
    "__Commentaire:__ On remarque une influence linéaire positive de l'expérience et de l'éducation, sur le log(wage)"
   ]
  },
  {
   "cell_type": "markdown",
   "metadata": {},
   "source": [
    "# 13. Tester l’égalité des coefficients associés aux variables kidsgt6 et kidslt6. Interprétez."
   ]
  },
  {
   "cell_type": "markdown",
   "metadata": {},
   "source": [
    "H0: $\\beta_{kidsge6} = \\beta_{kidslt6}$"
   ]
  },
  {
   "cell_type": "markdown",
   "metadata": {},
   "source": [
    "Nous procédons par un changement de variable: <br>\n",
    "$\\theta_{} = \\beta_{kidsge6} - \\beta_{kidslt6}$ <br> <br>\n",
    "En injectant $\\theta_{}$ dans l'OLS, nous nous rammenons à tester que $\\theta_{} = 0$"
   ]
  },
  {
   "cell_type": "code",
   "execution_count": 30,
   "metadata": {},
   "outputs": [],
   "source": [
    "X_inter = X['kidslt6'] + X['kidsge6']"
   ]
  },
  {
   "cell_type": "code",
   "execution_count": 31,
   "metadata": {
    "scrolled": false
   },
   "outputs": [
    {
     "name": "stdout",
     "output_type": "stream",
     "text": [
      "                            OLS Regression Results                            \n",
      "==============================================================================\n",
      "Dep. Variable:                  lwage   R-squared:                       0.156\n",
      "Model:                            OLS   Adj. R-squared:                  0.144\n",
      "Method:                 Least Squares   F-statistic:                     12.92\n",
      "Date:                Sun, 12 Apr 2020   Prob (F-statistic):           2.00e-13\n",
      "Time:                        21:36:58   Log-Likelihood:                -431.92\n",
      "No. Observations:                 428   AIC:                             877.8\n",
      "Df Residuals:                     421   BIC:                             906.3\n",
      "Df Model:                           6                                         \n",
      "Covariance Type:            nonrobust                                         \n",
      "==============================================================================\n",
      "                 coef    std err          t      P>|t|      [0.025      0.975]\n",
      "------------------------------------------------------------------------------\n",
      "0             -0.1995      0.104     -1.927      0.055      -0.403       0.004\n",
      "0             -0.1995      0.104     -1.927      0.055      -0.403       0.004\n",
      "city           0.0353      0.070      0.503      0.616      -0.103       0.173\n",
      "educ           0.1022      0.015      6.771      0.000       0.073       0.132\n",
      "exper          0.0155      0.004      3.452      0.001       0.007       0.024\n",
      "nwifeinc       0.0049      0.003      1.466      0.143      -0.002       0.011\n",
      "kidslt6       -0.0336      0.090     -0.372      0.710      -0.211       0.144\n",
      "0             -0.0117      0.027     -0.434      0.664      -0.065       0.041\n",
      "==============================================================================\n",
      "Omnibus:                       79.542   Durbin-Watson:                   1.979\n",
      "Prob(Omnibus):                  0.000   Jarque-Bera (JB):              287.193\n",
      "Skew:                          -0.795   Prob(JB):                     4.33e-63\n",
      "Kurtosis:                       6.685   Cond. No.                     9.11e+16\n",
      "==============================================================================\n",
      "\n",
      "Warnings:\n",
      "[1] Standard Errors assume that the covariance matrix of the errors is correctly specified.\n",
      "[2] The smallest eigenvalue is 3.95e-29. This might indicate that there are\n",
      "strong multicollinearity problems or that the design matrix is singular.\n"
     ]
    }
   ],
   "source": [
    "X_5 = pd.concat([const,X.drop(['kidsge6'],axis=1),X_inter], axis=1)\n",
    "model5 = sm.OLS(y,X_5)\n",
    "results5 = model5.fit()\n",
    "print(results5.summary())"
   ]
  },
  {
   "cell_type": "markdown",
   "metadata": {},
   "source": [
    "__Commentaires:__ Nous obtenons une pvalue de 0.710 pour la variable kidslt6, nous ne rejettons pas l'égalité des deux coefficients à 5%. Les âges des enfants n'ont pas d'effet différents sur le log(wage)."
   ]
  },
  {
   "cell_type": "markdown",
   "metadata": {},
   "source": [
    "## 14. Faire le test d'hétéroscédasticité de forme linéaire en donnant la p-valeur. Déterminer la ou les sources d’hétéroscédasticité et corriger avec les méthodes vues en cours. Comparer les écarts-types des coefficients estimés avec ceux obtenus à la question 7. Commenter."
   ]
  },
  {
   "cell_type": "markdown",
   "metadata": {},
   "source": [
    "__H0:__ homoscédasticité des erreurs"
   ]
  },
  {
   "cell_type": "markdown",
   "metadata": {},
   "source": [
    "### - OLS sur log(wage)"
   ]
  },
  {
   "cell_type": "code",
   "execution_count": 32,
   "metadata": {},
   "outputs": [
    {
     "name": "stdout",
     "output_type": "stream",
     "text": [
      "                            OLS Regression Results                            \n",
      "==============================================================================\n",
      "Dep. Variable:                      y   R-squared:                       0.028\n",
      "Model:                            OLS   Adj. R-squared:                  0.014\n",
      "Method:                 Least Squares   F-statistic:                     2.009\n",
      "Date:                Sun, 12 Apr 2020   Prob (F-statistic):             0.0633\n",
      "Time:                        21:36:59   Log-Likelihood:                -622.39\n",
      "No. Observations:                 428   AIC:                             1259.\n",
      "Df Residuals:                     421   BIC:                             1287.\n",
      "Df Model:                           6                                         \n",
      "Covariance Type:            nonrobust                                         \n",
      "==============================================================================\n",
      "                 coef    std err          t      P>|t|      [0.025      0.975]\n",
      "------------------------------------------------------------------------------\n",
      "0              0.4519      0.323      1.398      0.163      -0.183       1.087\n",
      "city           0.0967      0.110      0.883      0.378      -0.119       0.312\n",
      "educ           0.0126      0.024      0.536      0.593      -0.034       0.059\n",
      "exper         -0.0170      0.007     -2.423      0.016      -0.031      -0.003\n",
      "nwifeinc      -0.0036      0.005     -0.683      0.495      -0.014       0.007\n",
      "kidslt6        0.1279      0.133      0.960      0.337      -0.134       0.390\n",
      "kidsge6        0.0278      0.042      0.661      0.509      -0.055       0.110\n",
      "==============================================================================\n",
      "Omnibus:                      454.545   Durbin-Watson:                   1.642\n",
      "Prob(Omnibus):                  0.000   Jarque-Bera (JB):            16789.400\n",
      "Skew:                           4.875   Prob(JB):                         0.00\n",
      "Kurtosis:                      32.093   Cond. No.                         178.\n",
      "==============================================================================\n",
      "\n",
      "Warnings:\n",
      "[1] Standard Errors assume that the covariance matrix of the errors is correctly specified.\n"
     ]
    }
   ],
   "source": [
    "# Hétérocédasticité\n",
    "y = df['lwage']\n",
    "X = df[['city','educ','exper','nwifeinc', 'kidslt6', 'kidsge6']]\n",
    "\n",
    "n,k = X.shape\n",
    "const=pd.DataFrame(np.ones(n))\n",
    "X = pd.concat([const,X], axis=1)\n",
    "\n",
    "model=sm.OLS(y,X,hasconst=True)\n",
    "results = model.fit()\n",
    "#print(results.summary())\n",
    "\n",
    "## OLS sur les résidus au carré\n",
    "u = results.resid\n",
    "model_ht=sm.OLS(u**2,X,hasconst=True)\n",
    "results_ht = model_ht.fit()\n",
    "print(results_ht.summary())"
   ]
  },
  {
   "cell_type": "markdown",
   "metadata": {},
   "source": [
    "__Commentaires:__ avec une pvalue de 0.0633, nous ne rejettons pas l'homoscédasticité à 5%. Nous allons voir dans la suite, comment améliorer cette homoscédasticité"
   ]
  },
  {
   "cell_type": "markdown",
   "metadata": {},
   "source": [
    "### - OLS sur wage"
   ]
  },
  {
   "cell_type": "code",
   "execution_count": 33,
   "metadata": {},
   "outputs": [
    {
     "name": "stdout",
     "output_type": "stream",
     "text": [
      "                            OLS Regression Results                            \n",
      "==============================================================================\n",
      "Dep. Variable:                      y   R-squared:                       0.022\n",
      "Model:                            OLS   Adj. R-squared:                  0.008\n",
      "Method:                 Least Squares   F-statistic:                     1.593\n",
      "Date:                Sun, 12 Apr 2020   Prob (F-statistic):              0.148\n",
      "Time:                        21:36:59   Log-Likelihood:                -2207.4\n",
      "No. Observations:                 428   AIC:                             4429.\n",
      "Df Residuals:                     421   BIC:                             4457.\n",
      "Df Model:                           6                                         \n",
      "Covariance Type:            nonrobust                                         \n",
      "==============================================================================\n",
      "                 coef    std err          t      P>|t|      [0.025      0.975]\n",
      "------------------------------------------------------------------------------\n",
      "0              1.4856     13.111      0.113      0.910     -24.285      27.256\n",
      "city           5.9644      4.444      1.342      0.180      -2.770      14.699\n",
      "educ           0.8077      0.956      0.845      0.399      -1.072       2.687\n",
      "exper         -0.5341      0.284     -1.880      0.061      -1.093       0.024\n",
      "nwifeinc       0.0435      0.211      0.206      0.837      -0.371       0.458\n",
      "kidslt6        4.9573      5.402      0.918      0.359      -5.661      15.575\n",
      "kidsge6       -0.4018      1.706     -0.236      0.814      -3.756       2.952\n",
      "==============================================================================\n",
      "Omnibus:                      638.793   Durbin-Watson:                   2.029\n",
      "Prob(Omnibus):                  0.000   Jarque-Bera (JB):            96122.227\n",
      "Skew:                           8.127   Prob(JB):                         0.00\n",
      "Kurtosis:                      74.595   Cond. No.                         178.\n",
      "==============================================================================\n",
      "\n",
      "Warnings:\n",
      "[1] Standard Errors assume that the covariance matrix of the errors is correctly specified.\n"
     ]
    }
   ],
   "source": [
    "# Hétérocédasticité\n",
    "y = df['wage']\n",
    "X = df[['city','educ','exper','nwifeinc', 'kidslt6', 'kidsge6']]\n",
    "\n",
    "n,k = X.shape\n",
    "const=pd.DataFrame(np.ones(n))\n",
    "X = pd.concat([const,X], axis=1)\n",
    "\n",
    "model=sm.OLS(y,X)\n",
    "results = model.fit()\n",
    "#print(results.summary())\n",
    "\n",
    "## OLS sur les résidus au carré\n",
    "u = results.resid\n",
    "model_ht=sm.OLS(u**2,X)\n",
    "results_ht = model_ht.fit()\n",
    "print(results_ht.summary())"
   ]
  },
  {
   "cell_type": "markdown",
   "metadata": {},
   "source": [
    "__Commentaires:__ Avec un OLS avec wage au lieu de log(wage), nous remarquons que l'homoscédasticité est améliorée, avec une pvalue de 14.8%."
   ]
  },
  {
   "cell_type": "markdown",
   "metadata": {},
   "source": [
    "### - WLS: on choisit la variable 'exper' pour calcul des poids, car c'est elle qui est significative dans l'OLS de u2"
   ]
  },
  {
   "cell_type": "code",
   "execution_count": 34,
   "metadata": {},
   "outputs": [
    {
     "name": "stdout",
     "output_type": "stream",
     "text": [
      "                            OLS Regression Results                            \n",
      "==============================================================================\n",
      "Dep. Variable:                      y   R-squared:                       0.027\n",
      "Model:                            OLS   Adj. R-squared:                  0.016\n",
      "Method:                 Least Squares   F-statistic:                     2.367\n",
      "Date:                Sun, 12 Apr 2020   Prob (F-statistic):             0.0389\n",
      "Time:                        21:36:59   Log-Likelihood:                -2199.3\n",
      "No. Observations:                 428   AIC:                             4411.\n",
      "Df Residuals:                     422   BIC:                             4435.\n",
      "Df Model:                           5                                         \n",
      "Covariance Type:            nonrobust                                         \n",
      "==============================================================================\n",
      "                 coef    std err          t      P>|t|      [0.025      0.975]\n",
      "------------------------------------------------------------------------------\n",
      "city           6.8195      4.363      1.563      0.119      -1.757      15.396\n",
      "educ           1.5325      0.666      2.301      0.022       0.223       2.842\n",
      "exper         -6.2804      2.590     -2.425      0.016     -11.371      -1.190\n",
      "nwifeinc       0.0295      0.206      0.143      0.886      -0.375       0.434\n",
      "kidslt6        4.4419      5.300      0.838      0.402      -5.975      14.859\n",
      "kidsge6       -0.1031      1.504     -0.069      0.945      -3.060       2.854\n",
      "==============================================================================\n",
      "Omnibus:                      631.045   Durbin-Watson:                   2.025\n",
      "Prob(Omnibus):                  0.000   Jarque-Bera (JB):            89512.138\n",
      "Skew:                           7.964   Prob(JB):                         0.00\n",
      "Kurtosis:                      72.034   Cond. No.                         66.0\n",
      "==============================================================================\n",
      "\n",
      "Warnings:\n",
      "[1] Standard Errors assume that the covariance matrix of the errors is correctly specified.\n"
     ]
    }
   ],
   "source": [
    "#WLS\n",
    "h=np.sqrt(np.log(df['exper']+1))\n",
    "y = df['wage']\n",
    "X = df[['city','educ','exper','nwifeinc', 'kidslt6', 'kidsge6']]\n",
    "X['exper'] = np.log(X['exper']+1)\n",
    "model=sm.WLS(y,X,weight=1/h)\n",
    "results = model.fit()\n",
    "\n",
    "\n",
    "u = results.resid\n",
    "model_ht=sm.OLS(u**2,X,hasconst=True)\n",
    "results_ht = model_ht.fit()\n",
    "print(results_ht.summary())"
   ]
  },
  {
   "cell_type": "markdown",
   "metadata": {},
   "source": [
    "__Commentaires:__ Avec WLS et les poids définis comme étant $\\sqrt{\\log{(exper+1)}}$, nous rejetons désormais l'homocédasticité à 5%."
   ]
  },
  {
   "cell_type": "markdown",
   "metadata": {},
   "source": [
    "### - OLS sur deux groupes: OLS sur deux groupes de la variable 'exper', car c'est elle qui est significative dans le test d'hétérocédasticité"
   ]
  },
  {
   "cell_type": "code",
   "execution_count": 35,
   "metadata": {},
   "outputs": [
    {
     "data": {
      "image/png": "[encoded data removed]",
      "text/plain": [
       "<Figure size 720x360 with 1 Axes>"
      ]
     },
     "metadata": {
      "needs_background": "light"
     },
     "output_type": "display_data"
    }
   ],
   "source": [
    "plt.figure(figsize=(10,5))\n",
    "df['exper'].hist()\n",
    "plt.grid('true')\n",
    "plt.xlabel('exper')\n",
    "plt.ylabel('nombre')\n",
    "plt.title(\"Histogramme d'exper\")\n",
    "plt.show()"
   ]
  },
  {
   "cell_type": "code",
   "execution_count": 36,
   "metadata": {},
   "outputs": [
    {
     "data": {
      "image/png": "[encoded data removed]",
      "text/plain": [
       "<Figure size 720x360 with 1 Axes>"
      ]
     },
     "metadata": {
      "needs_background": "light"
     },
     "output_type": "display_data"
    }
   ],
   "source": [
    "plt.figure(figsize=(10,5))\n",
    "plt.scatter(df['exper'],df['wage'])\n",
    "plt.grid('true')\n",
    "plt.xlabel('exper')\n",
    "plt.ylabel('wage')\n",
    "plt.title(\"wage = f(exper)\")\n",
    "plt.show()"
   ]
  },
  {
   "cell_type": "code",
   "execution_count": 37,
   "metadata": {},
   "outputs": [
    {
     "data": {
      "image/png": "[encoded data removed]",
      "text/plain": [
       "<Figure size 720x360 with 1 Axes>"
      ]
     },
     "metadata": {
      "needs_background": "light"
     },
     "output_type": "display_data"
    }
   ],
   "source": [
    "plt.figure(figsize=(10,5))\n",
    "plt.scatter(df['exper'],df['lwage'])\n",
    "plt.grid('true')\n",
    "plt.xlabel('exper')\n",
    "plt.ylabel('lwage')\n",
    "plt.title(\"lwage = f(exper)\")\n",
    "plt.show()"
   ]
  },
  {
   "cell_type": "markdown",
   "metadata": {},
   "source": [
    "On fixe un seuil de 20 pour définir deux groupes:"
   ]
  },
  {
   "cell_type": "code",
   "execution_count": 38,
   "metadata": {},
   "outputs": [],
   "source": [
    "s = df['exper'] <= 20"
   ]
  },
  {
   "cell_type": "code",
   "execution_count": 39,
   "metadata": {},
   "outputs": [
    {
     "name": "stdout",
     "output_type": "stream",
     "text": [
      "                            OLS Regression Results                            \n",
      "==============================================================================\n",
      "Dep. Variable:                      y   R-squared:                       0.021\n",
      "Model:                            OLS   Adj. R-squared:                  0.004\n",
      "Method:                 Least Squares   F-statistic:                     1.222\n",
      "Date:                Sun, 12 Apr 2020   Prob (F-statistic):              0.294\n",
      "Time:                        21:36:59   Log-Likelihood:                -545.34\n",
      "No. Observations:                 352   AIC:                             1105.\n",
      "Df Residuals:                     345   BIC:                             1132.\n",
      "Df Model:                           6                                         \n",
      "Covariance Type:            nonrobust                                         \n",
      "==============================================================================\n",
      "                 coef    std err          t      P>|t|      [0.025      0.975]\n",
      "------------------------------------------------------------------------------\n",
      "const          0.4735      0.400      1.185      0.237      -0.313       1.260\n",
      "city           0.1067      0.133      0.805      0.422      -0.154       0.368\n",
      "educ           0.0135      0.029      0.464      0.643      -0.044       0.071\n",
      "exper         -0.0236      0.012     -1.919      0.056      -0.048       0.001\n",
      "nwifeinc      -0.0033      0.006     -0.536      0.592      -0.015       0.009\n",
      "kidslt6        0.1230      0.149      0.828      0.409      -0.169       0.415\n",
      "kidsge6        0.0375      0.049      0.773      0.440      -0.058       0.133\n",
      "==============================================================================\n",
      "Omnibus:                      366.404   Durbin-Watson:                   1.488\n",
      "Prob(Omnibus):                  0.000   Jarque-Bera (JB):            11338.588\n",
      "Skew:                           4.640   Prob(JB):                         0.00\n",
      "Kurtosis:                      29.210   Cond. No.                         178.\n",
      "==============================================================================\n",
      "\n",
      "Warnings:\n",
      "[1] Standard Errors assume that the covariance matrix of the errors is correctly specified.\n"
     ]
    }
   ],
   "source": [
    "y = df[s]['lwage']\n",
    "X = df[s][['city','educ','exper','nwifeinc', 'kidslt6', 'kidsge6']]\n",
    "\n",
    "model=sm.OLS(y, sm.add_constant(X),hasconst=True)\n",
    "results = model.fit()\n",
    "\n",
    "\n",
    "u = results.resid\n",
    "model_ht=sm.OLS(u**2, sm.add_constant(X),hasconst=True)\n",
    "results_ht = model_ht.fit()\n",
    "print(results_ht.summary())"
   ]
  },
  {
   "cell_type": "markdown",
   "metadata": {},
   "source": [
    "__Commentaires:__ avec une p-value de 29.4%, on a augmenté notre confiance en l'hypothèse d'homocédasticité dans le groupe exper <= 20"
   ]
  },
  {
   "cell_type": "code",
   "execution_count": 40,
   "metadata": {},
   "outputs": [
    {
     "name": "stdout",
     "output_type": "stream",
     "text": [
      "                            OLS Regression Results                            \n",
      "==============================================================================\n",
      "Dep. Variable:                      y   R-squared:                       0.042\n",
      "Model:                            OLS   Adj. R-squared:                 -0.041\n",
      "Method:                 Least Squares   F-statistic:                    0.5091\n",
      "Date:                Sun, 12 Apr 2020   Prob (F-statistic):              0.799\n",
      "Time:                        21:36:59   Log-Likelihood:                -19.794\n",
      "No. Observations:                  76   AIC:                             53.59\n",
      "Df Residuals:                      69   BIC:                             69.90\n",
      "Df Model:                           6                                         \n",
      "Covariance Type:            nonrobust                                         \n",
      "==============================================================================\n",
      "                 coef    std err          t      P>|t|      [0.025      0.975]\n",
      "------------------------------------------------------------------------------\n",
      "const         -0.1068      0.327     -0.327      0.745      -0.759       0.545\n",
      "city           0.0018      0.087      0.021      0.984      -0.172       0.176\n",
      "educ           0.0127      0.017      0.727      0.470      -0.022       0.048\n",
      "exper          0.0063      0.009      0.704      0.484      -0.011       0.024\n",
      "nwifeinc       0.0004      0.005      0.068      0.946      -0.010       0.011\n",
      "kidslt6       -0.2042      0.335     -0.609      0.545      -0.873       0.465\n",
      "kidsge6       -0.0455      0.048     -0.957      0.342      -0.140       0.049\n",
      "==============================================================================\n",
      "Omnibus:                       90.203   Durbin-Watson:                   1.829\n",
      "Prob(Omnibus):                  0.000   Jarque-Bera (JB):             1102.961\n",
      "Skew:                           3.679   Prob(JB):                    3.13e-240\n",
      "Kurtosis:                      20.151   Cond. No.                         308.\n",
      "==============================================================================\n",
      "\n",
      "Warnings:\n",
      "[1] Standard Errors assume that the covariance matrix of the errors is correctly specified.\n"
     ]
    }
   ],
   "source": [
    "y = df[~s]['lwage']\n",
    "X = df[~s][['city','educ','exper','nwifeinc', 'kidslt6', 'kidsge6']]\n",
    "\n",
    "model=sm.OLS(y,sm.add_constant(X),hasconst=True)\n",
    "results = model.fit()\n",
    "\n",
    "\n",
    "u = results.resid\n",
    "model_ht=sm.OLS(u**2, sm.add_constant(X),hasconst=True)\n",
    "results_ht = model_ht.fit()\n",
    "print(results_ht.summary())"
   ]
  },
  {
   "cell_type": "markdown",
   "metadata": {},
   "source": [
    "__Commentaires:__ avec une p-value de 79.9%, on a grandement augmenté notre confiance en l'hypothèse d'homocédasticité dans le groupe exper > 20"
   ]
  },
  {
   "cell_type": "markdown",
   "metadata": {},
   "source": [
    "La méthode qui a le mieux fonctionné est la création de deux sous-groupes d'exper."
   ]
  },
  {
   "cell_type": "markdown",
   "metadata": {},
   "source": [
    "## 15. Tester le changement de structure de la question 8 entre les femmes qui ont plus de 43 ans et les autres : test sur l'ensemble des coefficients. Donnez les p-valeurs"
   ]
  },
  {
   "cell_type": "code",
   "execution_count": 41,
   "metadata": {},
   "outputs": [],
   "source": [
    "X = df[['city','educ','exper','nwifeinc', 'kidslt6', 'kidsge6']]"
   ]
  },
  {
   "cell_type": "code",
   "execution_count": 42,
   "metadata": {},
   "outputs": [
    {
     "data": {
      "text/html": [
       "<div>\n",
       "<style scoped>\n",
       "    .dataframe tbody tr th:only-of-type {\n",
       "        vertical-align: middle;\n",
       "    }\n",
       "\n",
       "    .dataframe tbody tr th {\n",
       "        vertical-align: top;\n",
       "    }\n",
       "\n",
       "    .dataframe thead th {\n",
       "        text-align: right;\n",
       "    }\n",
       "</style>\n",
       "<table border=\"1\" class=\"dataframe\">\n",
       "  <thead>\n",
       "    <tr style=\"text-align: right;\">\n",
       "      <th></th>\n",
       "      <th>city</th>\n",
       "      <th>educ</th>\n",
       "      <th>exper</th>\n",
       "      <th>nwifeinc</th>\n",
       "      <th>kidslt6</th>\n",
       "      <th>kidsge6</th>\n",
       "      <th>age</th>\n",
       "      <th>agesup</th>\n",
       "    </tr>\n",
       "  </thead>\n",
       "  <tbody>\n",
       "    <tr>\n",
       "      <td>0</td>\n",
       "      <td>0.0</td>\n",
       "      <td>12.0</td>\n",
       "      <td>14.0</td>\n",
       "      <td>10.910060</td>\n",
       "      <td>1.0</td>\n",
       "      <td>0.0</td>\n",
       "      <td>32.0</td>\n",
       "      <td>0</td>\n",
       "    </tr>\n",
       "    <tr>\n",
       "      <td>1</td>\n",
       "      <td>1.0</td>\n",
       "      <td>12.0</td>\n",
       "      <td>5.0</td>\n",
       "      <td>19.499980</td>\n",
       "      <td>0.0</td>\n",
       "      <td>2.0</td>\n",
       "      <td>30.0</td>\n",
       "      <td>0</td>\n",
       "    </tr>\n",
       "    <tr>\n",
       "      <td>2</td>\n",
       "      <td>0.0</td>\n",
       "      <td>12.0</td>\n",
       "      <td>15.0</td>\n",
       "      <td>12.039910</td>\n",
       "      <td>1.0</td>\n",
       "      <td>3.0</td>\n",
       "      <td>35.0</td>\n",
       "      <td>0</td>\n",
       "    </tr>\n",
       "    <tr>\n",
       "      <td>3</td>\n",
       "      <td>0.0</td>\n",
       "      <td>12.0</td>\n",
       "      <td>6.0</td>\n",
       "      <td>6.799996</td>\n",
       "      <td>0.0</td>\n",
       "      <td>3.0</td>\n",
       "      <td>34.0</td>\n",
       "      <td>0</td>\n",
       "    </tr>\n",
       "    <tr>\n",
       "      <td>4</td>\n",
       "      <td>1.0</td>\n",
       "      <td>14.0</td>\n",
       "      <td>7.0</td>\n",
       "      <td>20.100060</td>\n",
       "      <td>1.0</td>\n",
       "      <td>2.0</td>\n",
       "      <td>31.0</td>\n",
       "      <td>0</td>\n",
       "    </tr>\n",
       "    <tr>\n",
       "      <td>...</td>\n",
       "      <td>...</td>\n",
       "      <td>...</td>\n",
       "      <td>...</td>\n",
       "      <td>...</td>\n",
       "      <td>...</td>\n",
       "      <td>...</td>\n",
       "      <td>...</td>\n",
       "      <td>...</td>\n",
       "    </tr>\n",
       "    <tr>\n",
       "      <td>423</td>\n",
       "      <td>0.0</td>\n",
       "      <td>10.0</td>\n",
       "      <td>2.0</td>\n",
       "      <td>18.199980</td>\n",
       "      <td>0.0</td>\n",
       "      <td>5.0</td>\n",
       "      <td>36.0</td>\n",
       "      <td>0</td>\n",
       "    </tr>\n",
       "    <tr>\n",
       "      <td>424</td>\n",
       "      <td>1.0</td>\n",
       "      <td>12.0</td>\n",
       "      <td>21.0</td>\n",
       "      <td>22.641060</td>\n",
       "      <td>0.0</td>\n",
       "      <td>1.0</td>\n",
       "      <td>40.0</td>\n",
       "      <td>0</td>\n",
       "    </tr>\n",
       "    <tr>\n",
       "      <td>425</td>\n",
       "      <td>1.0</td>\n",
       "      <td>13.0</td>\n",
       "      <td>22.0</td>\n",
       "      <td>21.640080</td>\n",
       "      <td>0.0</td>\n",
       "      <td>2.0</td>\n",
       "      <td>43.0</td>\n",
       "      <td>0</td>\n",
       "    </tr>\n",
       "    <tr>\n",
       "      <td>426</td>\n",
       "      <td>1.0</td>\n",
       "      <td>12.0</td>\n",
       "      <td>14.0</td>\n",
       "      <td>23.999980</td>\n",
       "      <td>0.0</td>\n",
       "      <td>1.0</td>\n",
       "      <td>33.0</td>\n",
       "      <td>0</td>\n",
       "    </tr>\n",
       "    <tr>\n",
       "      <td>427</td>\n",
       "      <td>1.0</td>\n",
       "      <td>12.0</td>\n",
       "      <td>7.0</td>\n",
       "      <td>16.000020</td>\n",
       "      <td>0.0</td>\n",
       "      <td>1.0</td>\n",
       "      <td>30.0</td>\n",
       "      <td>0</td>\n",
       "    </tr>\n",
       "  </tbody>\n",
       "</table>\n",
       "<p>428 rows × 8 columns</p>\n",
       "</div>"
      ],
      "text/plain": [
       "     city  educ  exper   nwifeinc  kidslt6  kidsge6   age  agesup\n",
       "0     0.0  12.0   14.0  10.910060      1.0      0.0  32.0       0\n",
       "1     1.0  12.0    5.0  19.499980      0.0      2.0  30.0       0\n",
       "2     0.0  12.0   15.0  12.039910      1.0      3.0  35.0       0\n",
       "3     0.0  12.0    6.0   6.799996      0.0      3.0  34.0       0\n",
       "4     1.0  14.0    7.0  20.100060      1.0      2.0  31.0       0\n",
       "..    ...   ...    ...        ...      ...      ...   ...     ...\n",
       "423   0.0  10.0    2.0  18.199980      0.0      5.0  36.0       0\n",
       "424   1.0  12.0   21.0  22.641060      0.0      1.0  40.0       0\n",
       "425   1.0  13.0   22.0  21.640080      0.0      2.0  43.0       0\n",
       "426   1.0  12.0   14.0  23.999980      0.0      1.0  33.0       0\n",
       "427   1.0  12.0    7.0  16.000020      0.0      1.0  30.0       0\n",
       "\n",
       "[428 rows x 8 columns]"
      ]
     },
     "execution_count": 42,
     "metadata": {},
     "output_type": "execute_result"
    }
   ],
   "source": [
    "X = pd.concat([X,df['age']],axis=1)\n",
    "X['agesup'] = X['age']>43\n",
    "X['agesup'] = X['agesup'].astype(int)\n",
    "X"
   ]
  },
  {
   "cell_type": "markdown",
   "metadata": {},
   "source": [
    "### Méthode1: Variables d'intéraction"
   ]
  },
  {
   "cell_type": "code",
   "execution_count": 43,
   "metadata": {},
   "outputs": [],
   "source": [
    "# Variables d'intéraction:\n",
    "X['supeduc'] = X['educ']*X['agesup'] \n",
    "X['supexper'] = X['exper']*X['agesup'] \n",
    "X['supnwif'] = X['nwifeinc']*X['agesup'] \n",
    "X['supsge'] = X['kidsge6']*X['agesup'] \n",
    "X['supslt'] = X['kidslt6']*X['agesup']\n",
    "X['supcity'] = X['city']*X['agesup']"
   ]
  },
  {
   "cell_type": "code",
   "execution_count": 44,
   "metadata": {},
   "outputs": [],
   "source": [
    "X = X.drop(['age'],axis=1)\n",
    "y = df['lwage']"
   ]
  },
  {
   "cell_type": "code",
   "execution_count": 45,
   "metadata": {},
   "outputs": [
    {
     "data": {
      "text/html": [
       "<div>\n",
       "<style scoped>\n",
       "    .dataframe tbody tr th:only-of-type {\n",
       "        vertical-align: middle;\n",
       "    }\n",
       "\n",
       "    .dataframe tbody tr th {\n",
       "        vertical-align: top;\n",
       "    }\n",
       "\n",
       "    .dataframe thead th {\n",
       "        text-align: right;\n",
       "    }\n",
       "</style>\n",
       "<table border=\"1\" class=\"dataframe\">\n",
       "  <thead>\n",
       "    <tr style=\"text-align: right;\">\n",
       "      <th></th>\n",
       "      <th>city</th>\n",
       "      <th>educ</th>\n",
       "      <th>exper</th>\n",
       "      <th>nwifeinc</th>\n",
       "      <th>kidslt6</th>\n",
       "      <th>kidsge6</th>\n",
       "      <th>agesup</th>\n",
       "      <th>supeduc</th>\n",
       "      <th>supexper</th>\n",
       "      <th>supnwif</th>\n",
       "      <th>supsge</th>\n",
       "      <th>supslt</th>\n",
       "      <th>supcity</th>\n",
       "    </tr>\n",
       "  </thead>\n",
       "  <tbody>\n",
       "    <tr>\n",
       "      <td>0</td>\n",
       "      <td>0.0</td>\n",
       "      <td>12.0</td>\n",
       "      <td>14.0</td>\n",
       "      <td>10.910060</td>\n",
       "      <td>1.0</td>\n",
       "      <td>0.0</td>\n",
       "      <td>0</td>\n",
       "      <td>0.0</td>\n",
       "      <td>0.0</td>\n",
       "      <td>0.0</td>\n",
       "      <td>0.0</td>\n",
       "      <td>0.0</td>\n",
       "      <td>0.0</td>\n",
       "    </tr>\n",
       "    <tr>\n",
       "      <td>1</td>\n",
       "      <td>1.0</td>\n",
       "      <td>12.0</td>\n",
       "      <td>5.0</td>\n",
       "      <td>19.499980</td>\n",
       "      <td>0.0</td>\n",
       "      <td>2.0</td>\n",
       "      <td>0</td>\n",
       "      <td>0.0</td>\n",
       "      <td>0.0</td>\n",
       "      <td>0.0</td>\n",
       "      <td>0.0</td>\n",
       "      <td>0.0</td>\n",
       "      <td>0.0</td>\n",
       "    </tr>\n",
       "    <tr>\n",
       "      <td>2</td>\n",
       "      <td>0.0</td>\n",
       "      <td>12.0</td>\n",
       "      <td>15.0</td>\n",
       "      <td>12.039910</td>\n",
       "      <td>1.0</td>\n",
       "      <td>3.0</td>\n",
       "      <td>0</td>\n",
       "      <td>0.0</td>\n",
       "      <td>0.0</td>\n",
       "      <td>0.0</td>\n",
       "      <td>0.0</td>\n",
       "      <td>0.0</td>\n",
       "      <td>0.0</td>\n",
       "    </tr>\n",
       "    <tr>\n",
       "      <td>3</td>\n",
       "      <td>0.0</td>\n",
       "      <td>12.0</td>\n",
       "      <td>6.0</td>\n",
       "      <td>6.799996</td>\n",
       "      <td>0.0</td>\n",
       "      <td>3.0</td>\n",
       "      <td>0</td>\n",
       "      <td>0.0</td>\n",
       "      <td>0.0</td>\n",
       "      <td>0.0</td>\n",
       "      <td>0.0</td>\n",
       "      <td>0.0</td>\n",
       "      <td>0.0</td>\n",
       "    </tr>\n",
       "    <tr>\n",
       "      <td>4</td>\n",
       "      <td>1.0</td>\n",
       "      <td>14.0</td>\n",
       "      <td>7.0</td>\n",
       "      <td>20.100060</td>\n",
       "      <td>1.0</td>\n",
       "      <td>2.0</td>\n",
       "      <td>0</td>\n",
       "      <td>0.0</td>\n",
       "      <td>0.0</td>\n",
       "      <td>0.0</td>\n",
       "      <td>0.0</td>\n",
       "      <td>0.0</td>\n",
       "      <td>0.0</td>\n",
       "    </tr>\n",
       "    <tr>\n",
       "      <td>...</td>\n",
       "      <td>...</td>\n",
       "      <td>...</td>\n",
       "      <td>...</td>\n",
       "      <td>...</td>\n",
       "      <td>...</td>\n",
       "      <td>...</td>\n",
       "      <td>...</td>\n",
       "      <td>...</td>\n",
       "      <td>...</td>\n",
       "      <td>...</td>\n",
       "      <td>...</td>\n",
       "      <td>...</td>\n",
       "      <td>...</td>\n",
       "    </tr>\n",
       "    <tr>\n",
       "      <td>423</td>\n",
       "      <td>0.0</td>\n",
       "      <td>10.0</td>\n",
       "      <td>2.0</td>\n",
       "      <td>18.199980</td>\n",
       "      <td>0.0</td>\n",
       "      <td>5.0</td>\n",
       "      <td>0</td>\n",
       "      <td>0.0</td>\n",
       "      <td>0.0</td>\n",
       "      <td>0.0</td>\n",
       "      <td>0.0</td>\n",
       "      <td>0.0</td>\n",
       "      <td>0.0</td>\n",
       "    </tr>\n",
       "    <tr>\n",
       "      <td>424</td>\n",
       "      <td>1.0</td>\n",
       "      <td>12.0</td>\n",
       "      <td>21.0</td>\n",
       "      <td>22.641060</td>\n",
       "      <td>0.0</td>\n",
       "      <td>1.0</td>\n",
       "      <td>0</td>\n",
       "      <td>0.0</td>\n",
       "      <td>0.0</td>\n",
       "      <td>0.0</td>\n",
       "      <td>0.0</td>\n",
       "      <td>0.0</td>\n",
       "      <td>0.0</td>\n",
       "    </tr>\n",
       "    <tr>\n",
       "      <td>425</td>\n",
       "      <td>1.0</td>\n",
       "      <td>13.0</td>\n",
       "      <td>22.0</td>\n",
       "      <td>21.640080</td>\n",
       "      <td>0.0</td>\n",
       "      <td>2.0</td>\n",
       "      <td>0</td>\n",
       "      <td>0.0</td>\n",
       "      <td>0.0</td>\n",
       "      <td>0.0</td>\n",
       "      <td>0.0</td>\n",
       "      <td>0.0</td>\n",
       "      <td>0.0</td>\n",
       "    </tr>\n",
       "    <tr>\n",
       "      <td>426</td>\n",
       "      <td>1.0</td>\n",
       "      <td>12.0</td>\n",
       "      <td>14.0</td>\n",
       "      <td>23.999980</td>\n",
       "      <td>0.0</td>\n",
       "      <td>1.0</td>\n",
       "      <td>0</td>\n",
       "      <td>0.0</td>\n",
       "      <td>0.0</td>\n",
       "      <td>0.0</td>\n",
       "      <td>0.0</td>\n",
       "      <td>0.0</td>\n",
       "      <td>0.0</td>\n",
       "    </tr>\n",
       "    <tr>\n",
       "      <td>427</td>\n",
       "      <td>1.0</td>\n",
       "      <td>12.0</td>\n",
       "      <td>7.0</td>\n",
       "      <td>16.000020</td>\n",
       "      <td>0.0</td>\n",
       "      <td>1.0</td>\n",
       "      <td>0</td>\n",
       "      <td>0.0</td>\n",
       "      <td>0.0</td>\n",
       "      <td>0.0</td>\n",
       "      <td>0.0</td>\n",
       "      <td>0.0</td>\n",
       "      <td>0.0</td>\n",
       "    </tr>\n",
       "  </tbody>\n",
       "</table>\n",
       "<p>428 rows × 13 columns</p>\n",
       "</div>"
      ],
      "text/plain": [
       "     city  educ  exper   nwifeinc  kidslt6  kidsge6  agesup  supeduc  \\\n",
       "0     0.0  12.0   14.0  10.910060      1.0      0.0       0      0.0   \n",
       "1     1.0  12.0    5.0  19.499980      0.0      2.0       0      0.0   \n",
       "2     0.0  12.0   15.0  12.039910      1.0      3.0       0      0.0   \n",
       "3     0.0  12.0    6.0   6.799996      0.0      3.0       0      0.0   \n",
       "4     1.0  14.0    7.0  20.100060      1.0      2.0       0      0.0   \n",
       "..    ...   ...    ...        ...      ...      ...     ...      ...   \n",
       "423   0.0  10.0    2.0  18.199980      0.0      5.0       0      0.0   \n",
       "424   1.0  12.0   21.0  22.641060      0.0      1.0       0      0.0   \n",
       "425   1.0  13.0   22.0  21.640080      0.0      2.0       0      0.0   \n",
       "426   1.0  12.0   14.0  23.999980      0.0      1.0       0      0.0   \n",
       "427   1.0  12.0    7.0  16.000020      0.0      1.0       0      0.0   \n",
       "\n",
       "     supexper  supnwif  supsge  supslt  supcity  \n",
       "0         0.0      0.0     0.0     0.0      0.0  \n",
       "1         0.0      0.0     0.0     0.0      0.0  \n",
       "2         0.0      0.0     0.0     0.0      0.0  \n",
       "3         0.0      0.0     0.0     0.0      0.0  \n",
       "4         0.0      0.0     0.0     0.0      0.0  \n",
       "..        ...      ...     ...     ...      ...  \n",
       "423       0.0      0.0     0.0     0.0      0.0  \n",
       "424       0.0      0.0     0.0     0.0      0.0  \n",
       "425       0.0      0.0     0.0     0.0      0.0  \n",
       "426       0.0      0.0     0.0     0.0      0.0  \n",
       "427       0.0      0.0     0.0     0.0      0.0  \n",
       "\n",
       "[428 rows x 13 columns]"
      ]
     },
     "execution_count": 45,
     "metadata": {},
     "output_type": "execute_result"
    }
   ],
   "source": [
    "#On ne garde pas la variable age mais que agesup\n",
    "X"
   ]
  },
  {
   "cell_type": "code",
   "execution_count": 46,
   "metadata": {},
   "outputs": [
    {
     "name": "stdout",
     "output_type": "stream",
     "text": [
      "185.9922602587884\n"
     ]
    },
    {
     "data": {
      "text/plain": [
       "(428, 14)"
      ]
     },
     "execution_count": 46,
     "metadata": {},
     "output_type": "execute_result"
    }
   ],
   "source": [
    "#Modèle non contraint\n",
    "X = sm.add_constant(X)\n",
    "model_14 = sm.OLS(y,X,hasconst=True)\n",
    "results_14 = model_14.fit()\n",
    "\n",
    "u_14 = results_14.resid\n",
    "\n",
    "SSR_04 = u_14.T.dot(u_14)\n",
    "\n",
    "n4,k4=X.shape\n",
    "\n",
    "print(SSR_04)\n",
    "n4,k4"
   ]
  },
  {
   "cell_type": "code",
   "execution_count": 47,
   "metadata": {},
   "outputs": [
    {
     "name": "stdout",
     "output_type": "stream",
     "text": [
      "188.58998019263944\n"
     ]
    }
   ],
   "source": [
    "#Modèle contraint\n",
    "model_14b = sm.OLS(y,X.drop(['agesup','supeduc','supexper','supnwif','supsge','supslt','supcity'],axis=1))\n",
    "results_14b = model_14b.fit()\n",
    "\n",
    "#print(results_wage.summary())\n",
    "\n",
    "u_14b = results_14b.resid\n",
    "\n",
    "#print(sm.OLS(uu**2,X).fit().summary())\n",
    "\n",
    "SSR_14b = u_14b.T.dot(u_14b)\n",
    "\n",
    "print(SSR_14b)"
   ]
  },
  {
   "cell_type": "code",
   "execution_count": 48,
   "metadata": {},
   "outputs": [
    {
     "name": "stdout",
     "output_type": "stream",
     "text": [
      "statistique de test:0.8260374852756527\n",
      "p-value:0.5660364450328104\n"
     ]
    }
   ],
   "source": [
    "F4 = ((SSR_14b-SSR_04)/7)/(SSR_04/(n4-k4))\n",
    "print(f'statistique de test:{F4}')\n",
    "print(f'p-value:{f.sf(F4,7,n4-k4)}')"
   ]
  },
  {
   "cell_type": "markdown",
   "metadata": {},
   "source": [
    "__Commentaires:__ On ne rejette pas la nullité des 7 paramètres liés aux variables d'intéraction à 5%, donc le fait d'avoir plus de 43ans n'agit pas sur le salaire des femmes, et donc ne modifie pas la structure. Pour rappel l'hypothèse nulle est 'On suppose que les deux régressions sont similaires'.  \n",
    "  \n",
    "On confirme ces résultats avec la seconde méthode, en faisant deux régression séparées."
   ]
  },
  {
   "cell_type": "markdown",
   "metadata": {},
   "source": [
    "### Méthode2: Test de Chow de changement de structure"
   ]
  },
  {
   "cell_type": "markdown",
   "metadata": {},
   "source": [
    "__Rappel de l'hypothèse nulle ici__\n",
    "__H0: On suppose que les paramètres des trois régressions sont les mêmes__"
   ]
  },
  {
   "cell_type": "code",
   "execution_count": 49,
   "metadata": {},
   "outputs": [
    {
     "name": "stdout",
     "output_type": "stream",
     "text": [
      "75.34817069662802\n"
     ]
    }
   ],
   "source": [
    "msksup = df['age']>43\n",
    "Xsup = pd.concat([const[msksup],df[msksup][['city','educ','exper','nwifeinc','kidslt6','kidsge6']]],axis=1)\n",
    "ysup = df[msksup]['lwage']\n",
    "\n",
    "modelsup = sm.OLS(ysup,Xsup)\n",
    "resultsup = modelsup.fit()\n",
    "usup = resultsup.resid\n",
    "SSRsup = usup.T.dot(usup)\n",
    "print(SSRsup)"
   ]
  },
  {
   "cell_type": "code",
   "execution_count": 50,
   "metadata": {},
   "outputs": [
    {
     "name": "stdout",
     "output_type": "stream",
     "text": [
      "110.64408956216036\n"
     ]
    }
   ],
   "source": [
    "mskinf = df['age']<=43\n",
    "Xinf = pd.concat([const[mskinf],df[mskinf][['city','educ','exper','nwifeinc','kidslt6','kidsge6']]],axis=1)\n",
    "yinf = df[mskinf]['lwage']\n",
    "\n",
    "modelinf = sm.OLS(yinf,Xinf)\n",
    "resultinf = modelinf.fit()\n",
    "uinf = resultinf.resid\n",
    "SSRinf = uinf.T.dot(uinf)\n",
    "print(SSRinf)"
   ]
  },
  {
   "cell_type": "code",
   "execution_count": 51,
   "metadata": {},
   "outputs": [
    {
     "name": "stdout",
     "output_type": "stream",
     "text": [
      "185.99226025878838\n",
      "185.9922602587884\n"
     ]
    }
   ],
   "source": [
    "print(SSRinf + SSRsup)\n",
    "print(SSR_04)"
   ]
  },
  {
   "cell_type": "markdown",
   "metadata": {},
   "source": [
    "__Remarque:__ La somme des SSR des deux sous régressions est égale à la SSR du modèle contraint de la méthode 1."
   ]
  },
  {
   "cell_type": "code",
   "execution_count": 52,
   "metadata": {},
   "outputs": [
    {
     "name": "stdout",
     "output_type": "stream",
     "text": [
      "188.58998019263944\n"
     ]
    }
   ],
   "source": [
    "X = pd.concat([const,df[['city','educ','exper','nwifeinc','kidslt6','kidsge6']]],axis=1)\n",
    "y = df['lwage']\n",
    "\n",
    "n,k = X.shape\n",
    "\n",
    "model = sm.OLS(y,X)\n",
    "result = model.fit()\n",
    "\n",
    "ui = result.resid\n",
    "\n",
    "SSRi = ui.T.dot(ui)\n",
    "print(SSRi)"
   ]
  },
  {
   "cell_type": "code",
   "execution_count": 53,
   "metadata": {},
   "outputs": [],
   "source": [
    "ddl1 = k\n",
    "ddl2 = n - 2*(k)"
   ]
  },
  {
   "cell_type": "code",
   "execution_count": 54,
   "metadata": {},
   "outputs": [
    {
     "name": "stdout",
     "output_type": "stream",
     "text": [
      "statistique de test:0.8260374852756618\n",
      "p-value:0.5660364450328048\n"
     ]
    }
   ],
   "source": [
    "F14 = ((SSRi - (SSRsup + SSRinf)) / ddl1) / ((SSRinf + SSRsup) / ddl2)\n",
    "print(f'statistique de test:{F14}')\n",
    "print(f'p-value:{f.sf(F14,ddl1,ddl2)}')"
   ]
  },
  {
   "cell_type": "markdown",
   "metadata": {},
   "source": [
    "__Commentaires:__ Identiquement à la méthode précédente, l'application du test de Chow montre bien que les deux régression sont quasiment similaires, cela rejoint l'effet de nullité des coefficients des nouvelles variables introduite dans la première partie de la question. Ici aussi nous ne rejettons pas l'égalité des coefficients entre les 3 régressions effectuées."
   ]
  },
  {
   "cell_type": "markdown",
   "metadata": {},
   "source": [
    "## 16. Ajouter au modèle de la question 7 la variable huseduc. Faire ensuite la même régression en décomposant la variable huseduc en 4 variables binaires construites selon votre choix. Faire le test de non significativité de l’ensemble des variables binaires. Donnez les p-valeurs et commentez."
   ]
  },
  {
   "cell_type": "code",
   "execution_count": 55,
   "metadata": {},
   "outputs": [],
   "source": [
    "X17 = pd.concat([const,df[['city','exper','educ','nwifeinc','kidslt6','kidsge6','huseduc']]],axis=1)\n",
    "y17 = df['lwage']"
   ]
  },
  {
   "cell_type": "code",
   "execution_count": 56,
   "metadata": {},
   "outputs": [
    {
     "name": "stdout",
     "output_type": "stream",
     "text": [
      "                            OLS Regression Results                            \n",
      "==============================================================================\n",
      "Dep. Variable:                  lwage   R-squared:                       0.159\n",
      "Model:                            OLS   Adj. R-squared:                  0.145\n",
      "Method:                 Least Squares   F-statistic:                     11.37\n",
      "Date:                Sun, 12 Apr 2020   Prob (F-statistic):           3.14e-13\n",
      "Time:                        21:36:59   Log-Likelihood:                -430.96\n",
      "No. Observations:                 428   AIC:                             877.9\n",
      "Df Residuals:                     420   BIC:                             910.4\n",
      "Df Model:                           7                                         \n",
      "Covariance Type:            nonrobust                                         \n",
      "==============================================================================\n",
      "                 coef    std err          t      P>|t|      [0.025      0.975]\n",
      "------------------------------------------------------------------------------\n",
      "0             -0.3494      0.210     -1.664      0.097      -0.762       0.063\n",
      "city           0.0489      0.071      0.690      0.490      -0.090       0.188\n",
      "exper          0.0152      0.004      3.381      0.001       0.006       0.024\n",
      "educ           0.1155      0.018      6.455      0.000       0.080       0.151\n",
      "nwifeinc       0.0058      0.003      1.704      0.089      -0.001       0.012\n",
      "kidslt6       -0.0405      0.085     -0.475      0.635      -0.208       0.127\n",
      "kidsge6       -0.0116      0.027     -0.431      0.667      -0.065       0.041\n",
      "huseduc       -0.0190      0.014     -1.377      0.169      -0.046       0.008\n",
      "==============================================================================\n",
      "Omnibus:                       80.922   Durbin-Watson:                   1.985\n",
      "Prob(Omnibus):                  0.000   Jarque-Bera (JB):              293.288\n",
      "Skew:                          -0.808   Prob(JB):                     2.06e-64\n",
      "Kurtosis:                       6.719   Cond. No.                         197.\n",
      "==============================================================================\n",
      "\n",
      "Warnings:\n",
      "[1] Standard Errors assume that the covariance matrix of the errors is correctly specified.\n"
     ]
    }
   ],
   "source": [
    "model17 = sm.OLS(y17, X17)\n",
    "result17 = model17.fit()\n",
    "print(result17.summary())"
   ]
  },
  {
   "cell_type": "code",
   "execution_count": 57,
   "metadata": {},
   "outputs": [
    {
     "data": {
      "text/plain": [
       "array([ 4.,  5.,  6.,  7.,  8.,  9., 10., 11., 12., 13., 14., 15., 16.,\n",
       "       17.])"
      ]
     },
     "execution_count": 57,
     "metadata": {},
     "output_type": "execute_result"
    }
   ],
   "source": [
    "np.sort(X17['huseduc'].unique())"
   ]
  },
  {
   "cell_type": "code",
   "execution_count": 58,
   "metadata": {},
   "outputs": [],
   "source": [
    "msk2 = X17.loc[:,'huseduc'].isin([8,9,10,11])\n",
    "msk3 = X17.loc[:,'huseduc'].isin([12,13,14])\n",
    "msk4 = X17.loc[:,'huseduc'].isin([15,16,17])\n",
    "\n",
    "X17.loc[:,'hduc2'] = 0\n",
    "X17.loc[msk2,'hduc2'] = 1\n",
    "\n",
    "X17.loc[:,'hduc3'] = 0\n",
    "X17.loc[msk3,'hduc3'] = 1\n",
    "\n",
    "X17.loc[:,'hduc4'] = 0\n",
    "X17.loc[msk4,'hduc4'] = 1"
   ]
  },
  {
   "cell_type": "code",
   "execution_count": 59,
   "metadata": {},
   "outputs": [
    {
     "name": "stdout",
     "output_type": "stream",
     "text": [
      "                            OLS Regression Results                            \n",
      "==============================================================================\n",
      "Dep. Variable:                  lwage   R-squared:                       0.163\n",
      "Model:                            OLS   Adj. R-squared:                  0.142\n",
      "Method:                 Least Squares   F-statistic:                     8.093\n",
      "Date:                Sun, 12 Apr 2020   Prob (F-statistic):           5.53e-12\n",
      "Time:                        21:36:59   Log-Likelihood:                -430.14\n",
      "No. Observations:                 428   AIC:                             882.3\n",
      "Df Residuals:                     417   BIC:                             926.9\n",
      "Df Model:                          10                                         \n",
      "Covariance Type:            nonrobust                                         \n",
      "==============================================================================\n",
      "                 coef    std err          t      P>|t|      [0.025      0.975]\n",
      "------------------------------------------------------------------------------\n",
      "0             -0.4005      0.320     -1.250      0.212      -1.030       0.229\n",
      "city           0.0510      0.071      0.716      0.474      -0.089       0.191\n",
      "exper          0.0152      0.004      3.387      0.001       0.006       0.024\n",
      "educ           0.1174      0.018      6.520      0.000       0.082       0.153\n",
      "nwifeinc       0.0058      0.003      1.687      0.092      -0.001       0.013\n",
      "kidslt6       -0.0354      0.086     -0.413      0.680      -0.204       0.133\n",
      "kidsge6       -0.0119      0.027     -0.440      0.660      -0.065       0.041\n",
      "huseduc        0.0003      0.038      0.008      0.994      -0.074       0.075\n",
      "hduc2         -0.1993      0.221     -0.904      0.367      -0.633       0.234\n",
      "hduc3         -0.1852      0.302     -0.614      0.539      -0.778       0.407\n",
      "hduc4         -0.3216      0.433     -0.742      0.458      -1.173       0.530\n",
      "==============================================================================\n",
      "Omnibus:                       82.403   Durbin-Watson:                   1.977\n",
      "Prob(Omnibus):                  0.000   Jarque-Bera (JB):              303.551\n",
      "Skew:                          -0.819   Prob(JB):                     1.22e-66\n",
      "Kurtosis:                       6.787   Cond. No.                         538.\n",
      "==============================================================================\n",
      "\n",
      "Warnings:\n",
      "[1] Standard Errors assume that the covariance matrix of the errors is correctly specified.\n",
      "187.02887916435066\n"
     ]
    }
   ],
   "source": [
    "model17 = sm.OLS(y17, X17)\n",
    "result17 = model17.fit()\n",
    "print(result17.summary())\n",
    "n17,k17=sm.add_constant(X17).shape\n",
    "u17 = result17.resid\n",
    "\n",
    "SSR17 = u17.T.dot(u17)\n",
    "print(SSR17)"
   ]
  },
  {
   "cell_type": "markdown",
   "metadata": {},
   "source": [
    "__Tous ces effets sont pris par rapport au niveau d'éducation 1 (educ < 8)__\n",
    "\n",
    "- l'éducation de l'homme de niveau 2 (8 <= educ <= 11) fait diminuer le salaire de la femme de 20%. L'effet est non significatif, avec une pvalue de 0.367  \n",
    "- l'éducation de l'homme de niveau 3 (12 <= educ <= 14) fait diminuer le salaire de la femme de 18% aussi. Effet non significatif non plus. Significativité plus faible.  \n",
    "- l'éducation de l'homme de niveau 4 (15 <= educ <= 17) , fait diminuer le salaire de la femme de 30%. Effet non significatif.  "
   ]
  },
  {
   "cell_type": "code",
   "execution_count": 60,
   "metadata": {},
   "outputs": [
    {
     "data": {
      "text/plain": [
       "(428, 11)"
      ]
     },
     "execution_count": 60,
     "metadata": {},
     "output_type": "execute_result"
    }
   ],
   "source": [
    "n17,k17"
   ]
  },
  {
   "cell_type": "markdown",
   "metadata": {},
   "source": [
    "__Test de significativité de l'ensemble des variables binaires__"
   ]
  },
  {
   "cell_type": "code",
   "execution_count": 61,
   "metadata": {},
   "outputs": [
    {
     "name": "stdout",
     "output_type": "stream",
     "text": [
      "187.74229399675636\n"
     ]
    }
   ],
   "source": [
    "# Modèle contraint:\n",
    "model17b = sm.OLS(y17, X17.drop(['hduc2','hduc3','hduc4'],axis=1))\n",
    "result17b = model17b.fit()\n",
    "#print(result17b.summary())\n",
    "\n",
    "u17b = result17b.resid\n",
    "\n",
    "SSR17b = u17b.T.dot(u17b)\n",
    "print(SSR17b)"
   ]
  },
  {
   "cell_type": "code",
   "execution_count": 62,
   "metadata": {},
   "outputs": [
    {
     "name": "stdout",
     "output_type": "stream",
     "text": [
      "statistique de test:0.5281956430451739\n",
      "p-value:0.6631419078733567\n"
     ]
    }
   ],
   "source": [
    "F17 = ((SSR17b-SSR17)/3)/((SSR17b)/(n17-k17))\n",
    "print(f'statistique de test:{F17}')\n",
    "print(f'p-value:{f.sf(F17,3,n17-k17)}')"
   ]
  },
  {
   "cell_type": "markdown",
   "metadata": {},
   "source": [
    "__Commentaires:__ Nous ne rejettons pas l'hypothèse de nullité des paramètres binaires à 5%, cela est conforme avec les interprétations des p-value relative au modèle non contraint. En effet l'effet de ces variables sur le salaire n'était pas significatif."
   ]
  }
 ],
 "metadata": {
  "kernelspec": {
   "display_name": "Python 3",
   "language": "python",
   "name": "python3"
  },
  "language_info": {
   "codemirror_mode": {
    "name": "ipython",
    "version": 3
   },
   "file_extension": ".py",
   "mimetype": "text/x-python",
   "name": "python",
   "nbconvert_exporter": "python",
   "pygments_lexer": "ipython3",
   "version": "3.7.3"
  }
 },
 "nbformat": 4,
 "nbformat_minor": 2
}
